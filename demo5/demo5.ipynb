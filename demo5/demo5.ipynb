{
 "cells": [
  {
   "cell_type": "code",
   "execution_count": 7,
   "metadata": {},
   "outputs": [
    {
     "name": "stdout",
     "output_type": "stream",
     "text": [
      "Requirement already satisfied: torch in /nvme/zhanglantian/anaconda3/envs/torch2.5.1/lib/python3.10/site-packages (2.5.1)\n",
      "Requirement already satisfied: modelscope in /nvme/zhanglantian/anaconda3/envs/torch2.5.1/lib/python3.10/site-packages (1.24.0)\n",
      "Collecting accelerate==0.27.0\n",
      "  Downloading accelerate-0.27.0-py3-none-any.whl.metadata (18 kB)\n",
      "Requirement already satisfied: numpy>=1.17 in /nvme/zhanglantian/anaconda3/envs/torch2.5.1/lib/python3.10/site-packages (from accelerate==0.27.0) (2.2.4)\n",
      "Requirement already satisfied: packaging>=20.0 in /nvme/zhanglantian/anaconda3/envs/torch2.5.1/lib/python3.10/site-packages (from accelerate==0.27.0) (24.2)\n",
      "Requirement already satisfied: psutil in /nvme/zhanglantian/anaconda3/envs/torch2.5.1/lib/python3.10/site-packages (from accelerate==0.27.0) (5.9.0)\n",
      "Requirement already satisfied: pyyaml in /nvme/zhanglantian/anaconda3/envs/torch2.5.1/lib/python3.10/site-packages (from accelerate==0.27.0) (6.0.2)\n",
      "Requirement already satisfied: huggingface-hub in /nvme/zhanglantian/anaconda3/envs/torch2.5.1/lib/python3.10/site-packages (from accelerate==0.27.0) (0.29.3)\n",
      "Requirement already satisfied: safetensors>=0.3.1 in /nvme/zhanglantian/anaconda3/envs/torch2.5.1/lib/python3.10/site-packages (from accelerate==0.27.0) (0.5.3)\n",
      "Requirement already satisfied: filelock in /nvme/zhanglantian/anaconda3/envs/torch2.5.1/lib/python3.10/site-packages (from torch) (3.18.0)\n",
      "Requirement already satisfied: typing-extensions>=4.8.0 in /nvme/zhanglantian/anaconda3/envs/torch2.5.1/lib/python3.10/site-packages (from torch) (4.12.2)\n",
      "Requirement already satisfied: networkx in /nvme/zhanglantian/anaconda3/envs/torch2.5.1/lib/python3.10/site-packages (from torch) (3.4.2)\n",
      "Requirement already satisfied: jinja2 in /nvme/zhanglantian/anaconda3/envs/torch2.5.1/lib/python3.10/site-packages (from torch) (3.1.6)\n",
      "Requirement already satisfied: fsspec in /nvme/zhanglantian/anaconda3/envs/torch2.5.1/lib/python3.10/site-packages (from torch) (2024.12.0)\n",
      "Requirement already satisfied: nvidia-cuda-nvrtc-cu12==12.4.127 in /nvme/zhanglantian/anaconda3/envs/torch2.5.1/lib/python3.10/site-packages (from torch) (12.4.127)\n",
      "Requirement already satisfied: nvidia-cuda-runtime-cu12==12.4.127 in /nvme/zhanglantian/anaconda3/envs/torch2.5.1/lib/python3.10/site-packages (from torch) (12.4.127)\n",
      "Requirement already satisfied: nvidia-cuda-cupti-cu12==12.4.127 in /nvme/zhanglantian/anaconda3/envs/torch2.5.1/lib/python3.10/site-packages (from torch) (12.4.127)\n",
      "Requirement already satisfied: nvidia-cudnn-cu12==9.1.0.70 in /nvme/zhanglantian/anaconda3/envs/torch2.5.1/lib/python3.10/site-packages (from torch) (9.1.0.70)\n",
      "Requirement already satisfied: nvidia-cublas-cu12==12.4.5.8 in /nvme/zhanglantian/anaconda3/envs/torch2.5.1/lib/python3.10/site-packages (from torch) (12.4.5.8)\n",
      "Requirement already satisfied: nvidia-cufft-cu12==11.2.1.3 in /nvme/zhanglantian/anaconda3/envs/torch2.5.1/lib/python3.10/site-packages (from torch) (11.2.1.3)\n",
      "Requirement already satisfied: nvidia-curand-cu12==10.3.5.147 in /nvme/zhanglantian/anaconda3/envs/torch2.5.1/lib/python3.10/site-packages (from torch) (10.3.5.147)\n",
      "Requirement already satisfied: nvidia-cusolver-cu12==11.6.1.9 in /nvme/zhanglantian/anaconda3/envs/torch2.5.1/lib/python3.10/site-packages (from torch) (11.6.1.9)\n",
      "Requirement already satisfied: nvidia-cusparse-cu12==12.3.1.170 in /nvme/zhanglantian/anaconda3/envs/torch2.5.1/lib/python3.10/site-packages (from torch) (12.3.1.170)\n",
      "Requirement already satisfied: nvidia-nccl-cu12==2.21.5 in /nvme/zhanglantian/anaconda3/envs/torch2.5.1/lib/python3.10/site-packages (from torch) (2.21.5)\n",
      "Requirement already satisfied: nvidia-nvtx-cu12==12.4.127 in /nvme/zhanglantian/anaconda3/envs/torch2.5.1/lib/python3.10/site-packages (from torch) (12.4.127)\n",
      "Requirement already satisfied: nvidia-nvjitlink-cu12==12.4.127 in /nvme/zhanglantian/anaconda3/envs/torch2.5.1/lib/python3.10/site-packages (from torch) (12.4.127)\n",
      "Requirement already satisfied: triton==3.1.0 in /nvme/zhanglantian/anaconda3/envs/torch2.5.1/lib/python3.10/site-packages (from torch) (3.1.0)\n",
      "Requirement already satisfied: sympy==1.13.1 in /nvme/zhanglantian/anaconda3/envs/torch2.5.1/lib/python3.10/site-packages (from torch) (1.13.1)\n",
      "Requirement already satisfied: mpmath<1.4,>=1.1.0 in /nvme/zhanglantian/anaconda3/envs/torch2.5.1/lib/python3.10/site-packages (from sympy==1.13.1->torch) (1.3.0)\n",
      "Requirement already satisfied: requests>=2.25 in /nvme/zhanglantian/anaconda3/envs/torch2.5.1/lib/python3.10/site-packages (from modelscope) (2.32.3)\n",
      "Requirement already satisfied: tqdm>=4.64.0 in /nvme/zhanglantian/anaconda3/envs/torch2.5.1/lib/python3.10/site-packages (from modelscope) (4.67.1)\n",
      "Requirement already satisfied: urllib3>=1.26 in /nvme/zhanglantian/anaconda3/envs/torch2.5.1/lib/python3.10/site-packages (from modelscope) (2.3.0)\n",
      "Requirement already satisfied: charset_normalizer<4,>=2 in /nvme/zhanglantian/anaconda3/envs/torch2.5.1/lib/python3.10/site-packages (from requests>=2.25->modelscope) (3.4.1)\n",
      "Requirement already satisfied: idna<4,>=2.5 in /nvme/zhanglantian/anaconda3/envs/torch2.5.1/lib/python3.10/site-packages (from requests>=2.25->modelscope) (3.10)\n",
      "Requirement already satisfied: certifi>=2017.4.17 in /nvme/zhanglantian/anaconda3/envs/torch2.5.1/lib/python3.10/site-packages (from requests>=2.25->modelscope) (2025.1.31)\n",
      "Requirement already satisfied: MarkupSafe>=2.0 in /nvme/zhanglantian/anaconda3/envs/torch2.5.1/lib/python3.10/site-packages (from jinja2->torch) (3.0.2)\n",
      "Downloading accelerate-0.27.0-py3-none-any.whl (279 kB)\n",
      "Installing collected packages: accelerate\n",
      "  Attempting uninstall: accelerate\n",
      "    Found existing installation: accelerate 0.26.0\n",
      "    Uninstalling accelerate-0.26.0:\n",
      "      Successfully uninstalled accelerate-0.26.0\n",
      "Successfully installed accelerate-0.27.0\n"
     ]
    }
   ],
   "source": [
    "!pip install torch modelscope accelerate==0.27.0"
   ]
  },
  {
   "cell_type": "code",
   "execution_count": null,
   "metadata": {},
   "outputs": [],
   "source": [
    "!modelscope download --dataset liucong/Chinese-DeepSeek-R1-Distill-data-110k-SFT --local_dir ./Chinese-DeepSeek-R1-Distill-data-110k-SFT"
   ]
  },
  {
   "cell_type": "code",
   "execution_count": 1,
   "metadata": {},
   "outputs": [
    {
     "ename": "FileNotFoundError",
     "evalue": "[Errno 2] No such file or directory: 'Chinese-DeepSeek-R1-Distill-data-110k-SFT/distill_r1_110k_sft.jsonl'",
     "output_type": "error",
     "traceback": [
      "\u001b[0;31m---------------------------------------------------------------------------\u001b[0m",
      "\u001b[0;31mFileNotFoundError\u001b[0m                         Traceback (most recent call last)",
      "Cell \u001b[0;32mIn[1], line 1\u001b[0m\n\u001b[0;32m----> 1\u001b[0m \u001b[38;5;28;01mwith\u001b[39;00m \u001b[38;5;28;43mopen\u001b[39;49m\u001b[43m(\u001b[49m\u001b[38;5;124;43m'\u001b[39;49m\u001b[38;5;124;43mChinese-DeepSeek-R1-Distill-data-110k-SFT/distill_r1_110k_sft.jsonl\u001b[39;49m\u001b[38;5;124;43m'\u001b[39;49m\u001b[43m,\u001b[49m\u001b[43m \u001b[49m\u001b[38;5;124;43m'\u001b[39;49m\u001b[38;5;124;43mr\u001b[39;49m\u001b[38;5;124;43m'\u001b[39;49m\u001b[43m)\u001b[49m \u001b[38;5;28;01mas\u001b[39;00m f:\n\u001b[1;32m      2\u001b[0m     \u001b[38;5;28;01mfor\u001b[39;00m count, line \u001b[38;5;129;01min\u001b[39;00m \u001b[38;5;28menumerate\u001b[39m(f, start\u001b[38;5;241m=\u001b[39m\u001b[38;5;241m1\u001b[39m):\n\u001b[1;32m      3\u001b[0m         \u001b[38;5;28mprint\u001b[39m(line)\n",
      "File \u001b[0;32m/nvme/zhanglantian/anaconda3/envs/torch2.5.1/lib/python3.10/site-packages/IPython/core/interactiveshell.py:310\u001b[0m, in \u001b[0;36m_modified_open\u001b[0;34m(file, *args, **kwargs)\u001b[0m\n\u001b[1;32m    303\u001b[0m \u001b[38;5;28;01mif\u001b[39;00m file \u001b[38;5;129;01min\u001b[39;00m {\u001b[38;5;241m0\u001b[39m, \u001b[38;5;241m1\u001b[39m, \u001b[38;5;241m2\u001b[39m}:\n\u001b[1;32m    304\u001b[0m     \u001b[38;5;28;01mraise\u001b[39;00m \u001b[38;5;167;01mValueError\u001b[39;00m(\n\u001b[1;32m    305\u001b[0m         \u001b[38;5;124mf\u001b[39m\u001b[38;5;124m\"\u001b[39m\u001b[38;5;124mIPython won\u001b[39m\u001b[38;5;124m'\u001b[39m\u001b[38;5;124mt let you open fd=\u001b[39m\u001b[38;5;132;01m{\u001b[39;00mfile\u001b[38;5;132;01m}\u001b[39;00m\u001b[38;5;124m by default \u001b[39m\u001b[38;5;124m\"\u001b[39m\n\u001b[1;32m    306\u001b[0m         \u001b[38;5;124m\"\u001b[39m\u001b[38;5;124mas it is likely to crash IPython. If you know what you are doing, \u001b[39m\u001b[38;5;124m\"\u001b[39m\n\u001b[1;32m    307\u001b[0m         \u001b[38;5;124m\"\u001b[39m\u001b[38;5;124myou can use builtins\u001b[39m\u001b[38;5;124m'\u001b[39m\u001b[38;5;124m open.\u001b[39m\u001b[38;5;124m\"\u001b[39m\n\u001b[1;32m    308\u001b[0m     )\n\u001b[0;32m--> 310\u001b[0m \u001b[38;5;28;01mreturn\u001b[39;00m \u001b[43mio_open\u001b[49m\u001b[43m(\u001b[49m\u001b[43mfile\u001b[49m\u001b[43m,\u001b[49m\u001b[43m \u001b[49m\u001b[38;5;241;43m*\u001b[39;49m\u001b[43margs\u001b[49m\u001b[43m,\u001b[49m\u001b[43m \u001b[49m\u001b[38;5;241;43m*\u001b[39;49m\u001b[38;5;241;43m*\u001b[39;49m\u001b[43mkwargs\u001b[49m\u001b[43m)\u001b[49m\n",
      "\u001b[0;31mFileNotFoundError\u001b[0m: [Errno 2] No such file or directory: 'Chinese-DeepSeek-R1-Distill-data-110k-SFT/distill_r1_110k_sft.jsonl'"
     ]
    }
   ],
   "source": [
    "with open('Chinese-DeepSeek-R1-Distill-data-110k-SFT/distill_r1_110k_sft.jsonl', 'r') as f:\n",
    "    for count, line in enumerate(f, start=1):\n",
    "        print(line)\n",
    "        if count == 4:\n",
    "            break"
   ]
  },
  {
   "cell_type": "raw",
   "metadata": {
    "vscode": {
     "languageId": "raw"
    }
   },
   "source": [
    "{\n",
    "    \"train_batch_size\": \"auto\",  \n",
    "    \"train_micro_batch_size_per_gpu\": 1,  \n",
    "    \"zero_optimization\": {\n",
    "        \"stage\": 3,\n",
    "        \"overlap_comm\": true,\n",
    "        \"contiguous_gradients\": true,\n",
    "        \"sub_group_size\": 1e9,\n",
    "        \"reduce_bucket_size\": \"auto\",\n",
    "        \"stage3_prefetch_bucket_size\": \"auto\",\n",
    "        \"stage3_param_persistence_threshold\": \"auto\",\n",
    "        \"stage3_max_live_parameters\": 1e9,\n",
    "        \"stage3_max_reuse_distance\": 1e9,\n",
    "        \"stage3_gather_16bit_weights_on_model_save\": true\n",
    "    }\n",
    "}"
   ]
  },
  {
   "cell_type": "markdown",
   "metadata": {},
   "source": [
    "导入需要的包"
   ]
  },
  {
   "cell_type": "code",
   "execution_count": null,
   "metadata": {},
   "outputs": [],
   "source": [
    "from transformers import AutoTokenizer, DataCollatorForSeq2Seq\n",
    "from datasets import load_dataset\n",
    "from transformers import AutoModelForCausalLM, TrainingArguments, Trainer\n",
    "import os\n",
    "os.environ[\"CUDA_VISIBLE_DEVICES\"] = \"6,7\""
   ]
  },
  {
   "cell_type": "code",
   "execution_count": 4,
   "metadata": {},
   "outputs": [
    {
     "data": {
      "application/vnd.jupyter.widget-view+json": {
       "model_id": "729be50137644746b00dd9c3f9a1c238",
       "version_major": 2,
       "version_minor": 0
      },
      "text/plain": [
       "Map:   0%|          | 0/10 [00:00<?, ? examples/s]"
      ]
     },
     "metadata": {},
     "output_type": "display_data"
    }
   ],
   "source": [
    "dataset_path = \"./Chinese-DeepSeek-R1-Distill-data-110k-SFT\"\n",
    "dataset = load_dataset(dataset_path, split=\"train\")\n",
    "dataset = dataset.shuffle(seed=42).select(range(10))\n",
    "\n",
    "tokenizer = AutoTokenizer.from_pretrained(\"./Qwen2.5-0.5B\")"
   ]
  },
  {
   "cell_type": "code",
   "execution_count": null,
   "metadata": {},
   "outputs": [],
   "source": [
    "system_prompt = \"TEST\"\n",
    "def generate_r1_prompt(prompt, completion):\n",
    "    input_ids, attention_mask, labels = [], [], []\n",
    "    instruction = [\n",
    "        {\n",
    "            \"role\": \"system\",\n",
    "            \"content\": system_prompt\n",
    "        },\n",
    "        {\n",
    "            \"role\": \"user\",\n",
    "            \"content\": prompt\n",
    "        },\n",
    "    ]\n",
    "    response = [\n",
    "        {\n",
    "            \"role\": \"assistant\",\n",
    "            \"content\": completion    \n",
    "        }\n",
    "    ]\n",
    "\n",
    "    tokenized_instruction = tokenizer.apply_chat_template(instruction, tokenize=True, return_dict=True)\n",
    "    tokenized_response = tokenizer.apply_chat_template(response, tokenize=True, return_dict=True)\n",
    "\n",
    "    input_ids = tokenized_instruction[\"input_ids\"] + tokenized_response[\"input_ids\"]\n",
    "    attention_mask = tokenized_instruction[\"attention_mask\"] + tokenized_response[\"attention_mask\"]\n",
    "    labels = [-100] * len(tokenized_instruction[\"input_ids\"]) + tokenized_response[\"input_ids\"]\n",
    "    return {\n",
    "        \"input_ids\": input_ids,\n",
    "        \"attention_mask\": attention_mask,\n",
    "        \"labels\": labels\n",
    "    }\n",
    "\n",
    "dataset = dataset.map(lambda x: generate_r1_prompt(x[\"instruction\"], x[\"output\"]), remove_columns=[\"instruction\", \"output\"])"
   ]
  },
  {
   "cell_type": "code",
   "execution_count": null,
   "metadata": {},
   "outputs": [],
   "source": [
    "model = AutoModelForCausalLM.from_pretrained(\"./Qwen2.5-0.5B\")"
   ]
  },
  {
   "cell_type": "code",
   "execution_count": null,
   "metadata": {},
   "outputs": [],
   "source": [
    "training_args = TrainingArguments(\n",
    "    output_dir=\"./fine_tuned_qwen\",\n",
    "    per_device_train_batch_size=1,\n",
    "    num_train_epochs=10,\n",
    "    save_strategy=\"no\",\n",
    "    logging_dir=\"./logs\",\n",
    "    logging_steps=1,\n",
    "    evaluation_strategy=\"no\",\n",
    "    save_total_limit=1,\n",
    "    deepspeed=\"deepspeed_config.json\",\n",
    "    fp16=True,\n",
    ")"
   ]
  },
  {
   "cell_type": "code",
   "execution_count": null,
   "metadata": {},
   "outputs": [],
   "source": [
    "trainer = Trainer(\n",
    "    model=model,\n",
    "    args=training_args,\n",
    "    train_dataset=dataset,\n",
    "    eval_dataset=None,\n",
    "    tokenizer=tokenizer,\n",
    "    data_collator=DataCollatorForSeq2Seq(tokenizer=tokenizer, padding=True)\n",
    ")"
   ]
  },
  {
   "cell_type": "code",
   "execution_count": null,
   "metadata": {},
   "outputs": [],
   "source": [
    "!bash run.sh"
   ]
  }
 ],
 "metadata": {
  "kernelspec": {
   "display_name": "torch2.5.1",
   "language": "python",
   "name": "python3"
  },
  "language_info": {
   "codemirror_mode": {
    "name": "ipython",
    "version": 3
   },
   "file_extension": ".py",
   "mimetype": "text/x-python",
   "name": "python",
   "nbconvert_exporter": "python",
   "pygments_lexer": "ipython3",
   "version": "3.10.16"
  }
 },
 "nbformat": 4,
 "nbformat_minor": 2
}
