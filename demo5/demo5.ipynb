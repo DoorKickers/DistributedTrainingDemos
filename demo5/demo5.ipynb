{
 "cells": [
  {
   "cell_type": "markdown",
   "metadata": {},
   "source": [
    "## 1.背景介绍\n",
    "\n",
    "本实验主要研究 基于 huggingface transformers 库和 deepspeed 进行单机两卡微调方法。"
   ]
  },
  {
   "cell_type": "markdown",
   "metadata": {},
   "source": [
    "## 2.实验目的\n",
    "了解 ZeRO 的基本思想，并完成单机两卡并行全参微调。"
   ]
  },
  {
   "cell_type": "markdown",
   "metadata": {},
   "source": [
    "## 3.硬件要求\n",
    "\n",
    "两张 GPU（4090、V100、A100等）。\n"
   ]
  },
  {
   "cell_type": "markdown",
   "metadata": {},
   "source": [
    "## 4.技术原理\n",
    "\n",
    "### ZeRO\n",
    "\n",
    "朴素的数据并行中，每个 DP 组保留完整的模型权重，只起到加速训练的效果，并没有节省显存的作用。\n",
    "\n",
    "ZeRO 尝试对数据并行进一步优化，从而达到节省显存的目的。\n",
    "\n",
    "ZeRO 的原理是将模型权重，梯度，优化器状态在不同 DP 组进行切分，在每次计算时，将分布在不同 DP 组的张量聚集起来，计算完毕后便释放到逐个 DP 组存储。增加部分通讯延迟来节省显存。"
   ]
  },
  {
   "cell_type": "markdown",
   "metadata": {},
   "source": [
    "## 5.实验流程"
   ]
  },
  {
   "cell_type": "markdown",
   "metadata": {},
   "source": [
    "### 环境配置\n",
    "\n"
   ]
  },
  {
   "cell_type": "code",
   "execution_count": null,
   "metadata": {},
   "outputs": [],
   "source": [
    "!pip install torch modelscope accelerate==0.27.0 deepspeed"
   ]
  },
  {
   "cell_type": "markdown",
   "metadata": {},
   "source": [
    "### 数据集下载\n",
    "\n"
   ]
  },
  {
   "cell_type": "code",
   "execution_count": null,
   "metadata": {},
   "outputs": [],
   "source": [
    "!modelscope download --dataset liucong/Chinese-DeepSeek-R1-Distill-data-110k-SFT --local_dir ./Chinese-DeepSeek-R1-Distill-data-110k-SFT"
   ]
  },
  {
   "cell_type": "code",
   "execution_count": null,
   "metadata": {},
   "outputs": [],
   "source": [
    "with open('Chinese-DeepSeek-R1-Distill-data-110k-SFT/distill_r1_110k_sft.jsonl', 'r') as f:\n",
    "    for count, line in enumerate(f):\n",
    "        print(line)\n",
    "        if count == 4:\n",
    "            break"
   ]
  },
  {
   "cell_type": "markdown",
   "metadata": {},
   "source": [
    "### 5.1. deepspeed config\n",
    "\n"
   ]
  },
  {
   "cell_type": "markdown",
   "metadata": {},
   "source": [
    "train_batch_size : 模型每进行一步更新， 需要多少个 sample，等于 num_gpu * batch_size_per_gpu * accumulation_steps\n",
    "\n",
    "train_micro_batch_size_per_gpu : 单个 GPU 每次 step 所需要的 sample 数量\n",
    "\n",
    "stage : 0, 1, 2, 3 分别对应 关闭 ZeRO，仅优化器，优化器 + 梯度，优化器 + 梯度 + 模型参数切分\n",
    "\n",
    "offload_optimizer : 将优化器存储下放到 CPU / NVME，将计算下放到 CPU \n",
    "\n",
    "overlap_comm : 在反向传播过程中做梯度聚合\n",
    "\n",
    "contiguous_gradients : 将梯度存放在连续空间，减少存储碎片\n",
    "\n",
    "reduce_bucket_size : 每次 reduce 操作最多参与的元素个数\n",
    "\n",
    "stage3_prefetch_bucket_size : 在计算前预获取的最大元素个数\n",
    "\n",
    "stage3_param_persistence_threshold : 不再划分的最小元素个数\n",
    "\n",
    "stage3_max_live_parameters : 最多多少个元素可以在每个 GPU 上\n",
    "\n",
    "stage3_max_reuse_distance : 元素释放的最小距离\n",
    "\n"
   ]
  },
  {
   "cell_type": "raw",
   "metadata": {
    "vscode": {
     "languageId": "raw"
    }
   },
   "source": [
    "{\n",
    "    \"train_batch_size\": \"auto\", \n",
    "    \"train_micro_batch_size_per_gpu\": 1,  \n",
    "    \"zero_optimization\": {\n",
    "        \"stage\": 3,\n",
    "        \"offload_optimizer\": {\n",
    "            \"device\": \"cpu\"\n",
    "        },\n",
    "        \"overlap_comm\": true,\n",
    "        \"contiguous_gradients\": true,\n",
    "        \"sub_group_size\": 1e9,\n",
    "        \"reduce_bucket_size\": 1e7,\n",
    "        \"stage3_prefetch_bucket_size\": 1e7,\n",
    "        \"stage3_param_persistence_threshold\": 1e5,\n",
    "        \"stage3_max_live_parameters\": 1e9,\n",
    "        \"stage3_max_reuse_distance\": 1e9,\n",
    "        \"stage3_gather_16bit_weights_on_model_save\": true\n",
    "    }\n",
    "}"
   ]
  },
  {
   "cell_type": "code",
   "execution_count": null,
   "metadata": {},
   "outputs": [],
   "source": [
    "!pwd\n",
    "%cd demo5"
   ]
  },
  {
   "cell_type": "markdown",
   "metadata": {},
   "source": [
    "### 5.1. 包导入以及环境变量设置"
   ]
  },
  {
   "cell_type": "code",
   "execution_count": 3,
   "metadata": {},
   "outputs": [],
   "source": [
    "from transformers import AutoTokenizer, DataCollatorForSeq2Seq\n",
    "from datasets import load_dataset\n",
    "from transformers import AutoModelForCausalLM, TrainingArguments, Trainer\n",
    "import os\n",
    "import torch\n",
    "os.environ[\"CUDA_VISIBLE_DEVICES\"] = \"6,7\""
   ]
  },
  {
   "cell_type": "markdown",
   "metadata": {},
   "source": [
    "### 5.2. 数据集加载和处理"
   ]
  },
  {
   "cell_type": "code",
   "execution_count": 4,
   "metadata": {},
   "outputs": [],
   "source": [
    "dataset_path = \"./Chinese-DeepSeek-R1-Distill-data-110k-SFT\"\n",
    "dataset = load_dataset(dataset_path, split=\"train\")\n",
    "dataset = dataset.shuffle(seed=42).select(range(10))\n",
    "\n",
    "tokenizer = AutoTokenizer.from_pretrained(\"/nvme/models/models/Qwen2.5-7B-Instruct\")"
   ]
  },
  {
   "cell_type": "code",
   "execution_count": 5,
   "metadata": {},
   "outputs": [],
   "source": [
    "system_prompt = \"You are Qwen, created by Alibaba Cloud. You are a helpful assistant.\"\n",
    "def generate_r1_prompt(prompt, completion):\n",
    "    input_ids, attention_mask, labels = [], [], []\n",
    "    instruction = [\n",
    "        {\n",
    "            \"role\": \"system\",\n",
    "            \"content\": system_prompt\n",
    "        },\n",
    "        {\n",
    "            \"role\": \"user\",\n",
    "            \"content\": prompt\n",
    "        },\n",
    "    ]\n",
    "    response = [\n",
    "        {\n",
    "            \"role\": \"assistant\",\n",
    "            \"content\": completion    \n",
    "        }\n",
    "    ]\n",
    "\n",
    "    full = instruction + response\n",
    "\n",
    "    tokenized_instruction = tokenizer.apply_chat_template(instruction, tokenize=True, return_dict=True)\n",
    "    tokenized_full = tokenizer.apply_chat_template(full, tokenize=True, return_dict=True)\n",
    "\n",
    "    input_ids = tokenized_full[\"input_ids\"]\n",
    "    attention_mask = tokenized_full[\"attention_mask\"]\n",
    "    labels = input_ids.copy()\n",
    "    instruction_length = len(tokenized_instruction[\"input_ids\"])\n",
    "    labels[:instruction_length] = [-100] * instruction_length\n",
    "    return {\n",
    "        \"input_ids\": input_ids,\n",
    "        \"attention_mask\": attention_mask,\n",
    "        \"labels\": labels\n",
    "    }\n",
    " \n",
    "dataset = dataset.map(lambda x: generate_r1_prompt(x[\"instruction\"], x[\"output\"]), remove_columns=[\"instruction\", \"output\"])\n",
    "\n"
   ]
  },
  {
   "cell_type": "code",
   "execution_count": null,
   "metadata": {},
   "outputs": [],
   "source": [
    "print(tokenizer.decode(dataset[0][\"input_ids\"]))"
   ]
  },
  {
   "cell_type": "code",
   "execution_count": null,
   "metadata": {},
   "outputs": [],
   "source": [
    "print(tokenizer.decode(list(filter(lambda x: x != -100, dataset[0][\"labels\"]))))"
   ]
  },
  {
   "cell_type": "markdown",
   "metadata": {},
   "source": [
    "### 5.3. 模型加载以及原始模型推理"
   ]
  },
  {
   "cell_type": "code",
   "execution_count": null,
   "metadata": {},
   "outputs": [],
   "source": [
    "model = AutoModelForCausalLM.from_pretrained(\"/nvme/models/models/Qwen2.5-7B-Instruct\").to(\"cuda\")\n",
    "\n",
    "prompt = \"1.11和1.9哪个大\"\n",
    "inputs = tokenizer.apply_chat_template([{\"role\": \"user\", \"content\": prompt}],\n",
    "                                       add_generation_prompt=True,\n",
    "                                       tokenize=True,\n",
    "                                       return_tensors=\"pt\",\n",
    "                                       return_dict=True\n",
    "                                       ).to(\"cuda\")\n",
    "\n",
    "gen_kwargs = {\"max_new_tokens\": 100, \"do_sample\": True, \"top_k\": 1}\n",
    "\n",
    "with torch.no_grad():\n",
    "    outputs = model.generate(**inputs, **gen_kwargs)\n",
    "    print(\"原始模型推理结果：\\n\", tokenizer.decode(outputs[0], skip_special_tokens=False))\n"
   ]
  },
  {
   "cell_type": "markdown",
   "metadata": {},
   "source": [
    "### 5.4. 训练参数设置"
   ]
  },
  {
   "cell_type": "code",
   "execution_count": null,
   "metadata": {},
   "outputs": [],
   "source": [
    "training_args = TrainingArguments(\n",
    "    output_dir=\"./fine_tuned_qwen\",\n",
    "    per_device_train_batch_size=1,\n",
    "    num_train_epochs=10,\n",
    "    save_strategy=\"no\",\n",
    "    logging_dir=\"./logs\",\n",
    "    logging_steps=1,\n",
    "    evaluation_strategy=\"no\",\n",
    "    save_total_limit=1,\n",
    "    deepspeed=\"deepspeed_config.json\",\n",
    "    fp16=True,\n",
    ")"
   ]
  },
  {
   "cell_type": "code",
   "execution_count": null,
   "metadata": {},
   "outputs": [],
   "source": [
    "trainer = Trainer(\n",
    "    model=model,\n",
    "    args=training_args,\n",
    "    train_dataset=dataset,\n",
    "    eval_dataset=None,\n",
    "    tokenizer=tokenizer,\n",
    "    data_collator=DataCollatorForSeq2Seq(tokenizer=tokenizer, padding=True)\n",
    ")"
   ]
  },
  {
   "cell_type": "markdown",
   "metadata": {},
   "source": [
    "### 5.5. 执行训练并查看微调后推理结果"
   ]
  },
  {
   "cell_type": "code",
   "execution_count": null,
   "metadata": {},
   "outputs": [],
   "source": [
    "!bash run.sh"
   ]
  }
 ],
 "metadata": {
  "kernelspec": {
   "display_name": "torch2.5.1",
   "language": "python",
   "name": "python3"
  },
  "language_info": {
   "codemirror_mode": {
    "name": "ipython",
    "version": 3
   },
   "file_extension": ".py",
   "mimetype": "text/x-python",
   "name": "python",
   "nbconvert_exporter": "python",
   "pygments_lexer": "ipython3",
   "version": "3.10.16"
  }
 },
 "nbformat": 4,
 "nbformat_minor": 2
}
